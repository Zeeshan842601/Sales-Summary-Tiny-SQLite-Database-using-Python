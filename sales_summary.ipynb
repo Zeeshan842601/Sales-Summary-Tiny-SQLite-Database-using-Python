{
 "cells": [
  {
   "cell_type": "code",
   "execution_count": 42,
   "id": "c64acc23-48a9-4c17-ad6f-8271fc3ab3f3",
   "metadata": {},
   "outputs": [
    {
     "name": "stdout",
     "output_type": "stream",
     "text": [
      "=== Sales by Product ===\n",
      "   product  total_qty  revenue\n",
      "    Laptop          5  3757.00\n",
      "   Monitor          5   754.00\n",
      "Headphones         10   351.40\n",
      "  Keyboard          9   228.00\n",
      "     Mouse         12   123.45\n",
      "\n",
      "=== Overall Totals ===\n",
      " total_qty  total_revenue\n",
      "        41        5213.85\n"
     ]
    },
    {
     "data": {
      "image/png": "[encoded data removed]",
      "text/plain": [
       "<Figure size 600x400 with 1 Axes>"
      ]
     },
     "metadata": {},
     "output_type": "display_data"
    },
    {
     "name": "stdout",
     "output_type": "stream",
     "text": [
      "Chart saved to: sales_chart.png\n"
     ]
    }
   ],
   "source": [
    "import sqlite3\n",
    "import pandas as pd\n",
    "import matplotlib.pyplot as plt\n",
    "from pathlib import Path\n",
    "\n",
    "DB_PATH = Path(\"sales_data.db\")  # current folder me file\n",
    "CHART_PATH = Path(\"sales_chart.png\")\n",
    "\n",
    "def ensure_db_with_sample_data(conn):\n",
    "    cur = conn.cursor()\n",
    "    cur.execute(\n",
    "        \"\"\"\n",
    "        CREATE TABLE IF NOT EXISTS sales (\n",
    "            id INTEGER PRIMARY KEY AUTOINCREMENT,\n",
    "            sale_date TEXT NOT NULL,\n",
    "            product TEXT NOT NULL,\n",
    "            quantity INTEGER NOT NULL,\n",
    "            price REAL NOT NULL\n",
    "        );\n",
    "        \"\"\"\n",
    "    )\n",
    "    conn.commit()\n",
    "\n",
    "    cur.execute(\"SELECT COUNT(*) FROM sales;\")\n",
    "    count = cur.fetchone()[0]\n",
    "    if count == 0:\n",
    "        # Minimal sample rows\n",
    "        rows = [\n",
    "            (\"2025-06-01\", \"Laptop\", 3, 749.00),\n",
    "            (\"2025-06-02\", \"Mouse\", 5, 9.99),\n",
    "            (\"2025-06-03\", \"Keyboard\", 4, 24.50),\n",
    "            (\"2025-06-04\", \"Monitor\", 2, 149.00),\n",
    "            (\"2025-06-05\", \"Headphones\", 6, 34.90),\n",
    "            (\"2025-06-06\", \"Mouse\", 7, 10.50),\n",
    "            (\"2025-06-07\", \"Laptop\", 2, 755.00),\n",
    "            (\"2025-06-08\", \"Monitor\", 3, 152.00),\n",
    "            (\"2025-06-09\", \"Keyboard\", 5, 26.00),\n",
    "            (\"2025-06-10\", \"Headphones\", 4, 35.50),\n",
    "        ]\n",
    "        cur.executemany(\n",
    "            \"INSERT INTO sales (sale_date, product, quantity, price) VALUES (?, ?, ?, ?);\",\n",
    "            rows\n",
    "        )\n",
    "        conn.commit()\n",
    "\n",
    "def main():\n",
    "    conn = sqlite3.connect(DB_PATH.as_posix())\n",
    "    ensure_db_with_sample_data(conn)\n",
    "\n",
    "    group_query = \"\"\"\n",
    "    SELECT\n",
    "        product,\n",
    "        SUM(quantity) AS total_qty,\n",
    "        ROUND(SUM(quantity * price), 2) AS revenue\n",
    "    FROM sales\n",
    "    GROUP BY product\n",
    "    ORDER BY revenue DESC;\n",
    "    \"\"\"\n",
    "\n",
    "    totals_query = \"\"\"\n",
    "    SELECT\n",
    "        SUM(quantity) AS total_qty,\n",
    "        ROUND(SUM(quantity * price), 2) AS total_revenue\n",
    "    FROM sales;\n",
    "    \"\"\"\n",
    "\n",
    "    df = pd.read_sql_query(group_query, conn)\n",
    "    totals = pd.read_sql_query(totals_query, conn)\n",
    "\n",
    "    # Print outputs\n",
    "    print(\"=== Sales by Product ===\")\n",
    "    print(df.to_string(index=False))\n",
    "    print(\"\\n=== Overall Totals ===\")\n",
    "    print(totals.to_string(index=False))\n",
    "\n",
    "    # Matplotlib bar chart\n",
    "    plt.figure(figsize=(6,4))\n",
    "    plt.bar(df[\"product\"], df[\"revenue\"], color=\"skyblue\")\n",
    "    plt.title(\"Revenue by Product\")\n",
    "    plt.xlabel(\"Product\")\n",
    "    plt.ylabel(\"Revenue\")\n",
    "    plt.tight_layout()\n",
    "    plt.savefig(\"sales_chart.png\")  # Save chart as PNG\n",
    "    plt.show()\n",
    "\n",
    "    conn.close()\n",
    "    print(f\"Chart saved to: {CHART_PATH}\")\n",
    "\n",
    "if __name__ == \"__main__\":\n",
    "    main()\n"
   ]
  },
  {
   "cell_type": "code",
   "execution_count": null,
   "id": "5b8bb5f4-7d53-45ba-bac5-797c0688b569",
   "metadata": {},
   "outputs": [],
   "source": []
  }
 ],
 "metadata": {
  "kernelspec": {
   "display_name": "Python 3 (ipykernel)",
   "language": "python",
   "name": "python3"
  },
  "language_info": {
   "codemirror_mode": {
    "name": "ipython",
    "version": 3
   },
   "file_extension": ".py",
   "mimetype": "text/x-python",
   "name": "python",
   "nbconvert_exporter": "python",
   "pygments_lexer": "ipython3",
   "version": "3.12.7"
  }
 },
 "nbformat": 4,
 "nbformat_minor": 5
}
